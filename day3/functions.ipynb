{
 "cells": [
  {
   "cell_type": "code",
   "execution_count": 63,
   "id": "116550a9",
   "metadata": {},
   "outputs": [
    {
     "name": "stdout",
     "output_type": "stream",
     "text": [
      "Hello,Students!\n"
     ]
    }
   ],
   "source": [
    "#basics of functions\n",
    "def hi(name:str)->str:\n",
    "    return f\"Hello,{name}!\"\n",
    "\n",
    "print(hi(\"Students\"))"
   ]
  },
  {
   "cell_type": "code",
   "execution_count": 64,
   "id": "c608bb7e",
   "metadata": {},
   "outputs": [
    {
     "name": "stdout",
     "output_type": "stream",
     "text": [
      "5\n",
      "15\n"
     ]
    }
   ],
   "source": [
    "#default parameters\n",
    "def a(x,y=1):\n",
    "    return x*y\n",
    "\n",
    "\n",
    "print(a(5))\n",
    "print(a(5,3))"
   ]
  },
  {
   "cell_type": "code",
   "execution_count": 65,
   "id": "79fa953a",
   "metadata": {},
   "outputs": [
    {
     "name": "stdout",
     "output_type": "stream",
     "text": [
      "6\n",
      "100\n"
     ]
    }
   ],
   "source": [
    "#Function with variable arguments\n",
    "def x(*args):\n",
    "    return sum(args)\n",
    "\n",
    "print(x(1,2,3))\n",
    "print(x(10,20,30,40))\n"
   ]
  },
  {
   "cell_type": "code",
   "execution_count": 66,
   "id": "4a277a9c",
   "metadata": {},
   "outputs": [
    {
     "name": "stdout",
     "output_type": "stream",
     "text": [
      "name:Neta\n",
      "age:20\n",
      "city:Vijayawada\n"
     ]
    }
   ],
   "source": [
    "#function with keyword args\n",
    "def info(**kwargs):\n",
    "    for key,value in kwargs.items():\n",
    "        print(f\"{key}:{value}\")\n",
    "\n",
    "\n",
    "info(name=\"Neta\",age=20,city=\"Vijayawada\")"
   ]
  },
  {
   "cell_type": "code",
   "execution_count": 67,
   "id": "bdacbc95",
   "metadata": {},
   "outputs": [
    {
     "name": "stdout",
     "output_type": "stream",
     "text": [
      "16\n",
      "11\n"
     ]
    }
   ],
   "source": [
    "#Lambda function\n",
    "sq=lambda a:a*a\n",
    "print(sq(4))\n",
    "add=lambda x,y:x+y\n",
    "print(add(5,6))"
   ]
  },
  {
   "cell_type": "code",
   "execution_count": 68,
   "id": "cc407ad6",
   "metadata": {},
   "outputs": [
    {
     "name": "stdout",
     "output_type": "stream",
     "text": [
      "(1, 5, 3)\n"
     ]
    }
   ],
   "source": [
    "#Function Exercise\n",
    "#write a program to return multiple values\n",
    "#min,max,avg by passing 1,2,3,4,5 to a function\n",
    "def sample(*args):\n",
    "    lent=len(args)\n",
    "    avg=sum(args)//lent\n",
    "    return min(args),max(args),avg\n",
    "\n",
    "print(sample(1,2,3,4,5))"
   ]
  },
  {
   "cell_type": "code",
   "execution_count": 69,
   "id": "efecb7fd",
   "metadata": {},
   "outputs": [
    {
     "name": "stdout",
     "output_type": "stream",
     "text": [
      "Min:5,Max:1,Average:3.0\n"
     ]
    }
   ],
   "source": [
    "def values(numbers):\n",
    "    avg=sum(numbers)/len(numbers)\n",
    "    return max(numbers),min(numbers),avg\n",
    "\n",
    "\n",
    "min_val,max_val,avg=values([1,2,3,4,5])\n",
    "print(f\"Min:{min_val},Max:{max_val},Average:{avg}\")"
   ]
  },
  {
   "cell_type": "markdown",
   "id": "6a1457b1",
   "metadata": {},
   "source": [
    "Recursions\n",
    "1.Direct\n",
    "2.Indirect\n",
    "3.Head/Non-Tail\n",
    "4.Tail\n",
    "5.linear\n",
    "6.Binary\n",
    "7.Multiple\n",
    "8.Nested\n",
    "9.Mutual\n",
    "10.D-C(Divide and conquer)\n",
    "11.Tree\n",
    "12.Absolute/Static Recursion"
   ]
  },
  {
   "cell_type": "markdown",
   "id": "3815620e",
   "metadata": {},
   "source": [
    "Direct method example"
   ]
  },
  {
   "cell_type": "code",
   "execution_count": 70,
   "id": "b7df26fb",
   "metadata": {},
   "outputs": [
    {
     "name": "stdout",
     "output_type": "stream",
     "text": [
      "479001600\n"
     ]
    }
   ],
   "source": [
    "#Recursive fact(direct)\n",
    "def fact(n):\n",
    "    if n==1 or n==0:\n",
    "        return 1\n",
    "    else:\n",
    "        return n*fact(n-1)\n",
    "\n",
    "print(fact(12))"
   ]
  },
  {
   "cell_type": "markdown",
   "id": "6f3ad581",
   "metadata": {},
   "source": [
    "Indirect  recursion method example"
   ]
  },
  {
   "cell_type": "code",
   "execution_count": 71,
   "id": "79f6d155",
   "metadata": {},
   "outputs": [
    {
     "name": "stdout",
     "output_type": "stream",
     "text": [
      "False\n",
      "True\n"
     ]
    }
   ],
   "source": [
    "#Recursive fact(in-direct)\n",
    "def is_even(n):\n",
    "    if n==0:\n",
    "        return True\n",
    "    return is_odd(n-1)\n",
    "def is_odd(n):\n",
    "    if n==0:\n",
    "        return False\n",
    "    return is_even(n-1)\n",
    "\n",
    "\n",
    "\n",
    "print(is_even(7))\n",
    "print(is_odd(7))"
   ]
  },
  {
   "cell_type": "markdown",
   "id": "f918ecb3",
   "metadata": {},
   "source": [
    "Create a program to determine if a string is a palindrome by recurively comparing chracters from start to end by base case function and call if the pointer meets its palindrome constraints.\n",
    "\n",
    "def is_palindrome length\n",
    "\n",
    "\n",
    "def check_palindrome start,end,s\n",
    "\n",
    "\n",
    "i/p:\n",
    "racecar=True\n",
    "hello=Flase\n",
    "level=True"
   ]
  },
  {
   "cell_type": "code",
   "execution_count": 72,
   "id": "1823324d",
   "metadata": {},
   "outputs": [
    {
     "name": "stdout",
     "output_type": "stream",
     "text": [
      "True\n",
      "False\n",
      "True\n"
     ]
    }
   ],
   "source": [
    "def is_palindrome(s):\n",
    "    if len(s)<=1:\n",
    "        return True\n",
    "    return check_palindrome(s,0,len(s)-1)\n",
    "\n",
    "def check_palindrome(s,start,end):\n",
    "    if start>=end:\n",
    "        return True\n",
    "    if s[start]!=s[end]:\n",
    "        return False\n",
    "    return is_palindrome(s[start+1:end])\n",
    "\n",
    "\n",
    "\n",
    "print(is_palindrome('racecar'))\n",
    "print(is_palindrome('hello'))\n",
    "print(is_palindrome('level'))\n",
    "\n"
   ]
  },
  {
   "cell_type": "markdown",
   "id": "251389c8",
   "metadata": {},
   "source": [
    "Tail recursion method example\n"
   ]
  },
  {
   "cell_type": "code",
   "execution_count": 73,
   "id": "cffeb773",
   "metadata": {},
   "outputs": [
    {
     "name": "stdout",
     "output_type": "stream",
     "text": [
      "120\n"
     ]
    }
   ],
   "source": [
    "def ftail(n,acc=1):\n",
    "    if n==0 or n==1:\n",
    "        return acc\n",
    "    return ftail(n-1,n*acc)\n",
    "\n",
    "print(ftail(5))"
   ]
  },
  {
   "cell_type": "code",
   "execution_count": 74,
   "id": "d113e20d",
   "metadata": {},
   "outputs": [
    {
     "name": "stdout",
     "output_type": "stream",
     "text": [
      "5\n"
     ]
    }
   ],
   "source": [
    "def ackermann(m,n):\n",
    "    if m==0:\n",
    "        return n+1\n",
    "    elif m>0 and n==0:\n",
    "        return ackermann(m-1,1)\n",
    "    else:\n",
    "        return ackermann(m-1,ackermann(m,n-1))\n",
    "print(ackermann(2,1))"
   ]
  },
  {
   "cell_type": "markdown",
   "id": "3b417c0d",
   "metadata": {},
   "source": [
    "Nested function example"
   ]
  },
  {
   "cell_type": "code",
   "execution_count": 75,
   "id": "4bc9eea0",
   "metadata": {},
   "outputs": [
    {
     "name": "stdout",
     "output_type": "stream",
     "text": [
      "countdown(3)->countdown(countdown(2))\n",
      "countdown(2)->countdown(countdown(1))\n",
      "countdown(1)->countdown(countdown(0))\n",
      "0\n"
     ]
    }
   ],
   "source": [
    "def countdown(n):\n",
    "    if n<=0:\n",
    "        return 0\n",
    "    else:\n",
    "        print(f\"countdown({n})->countdown(countdown({n-1}))\")\n",
    "        return countdown(countdown(n-1))\n",
    "\n",
    "\n",
    "print(countdown(3))"
   ]
  },
  {
   "cell_type": "code",
   "execution_count": 76,
   "id": "eaf0fe47",
   "metadata": {},
   "outputs": [
    {
     "ename": "RecursionError",
     "evalue": "maximum recursion depth exceeded",
     "output_type": "error",
     "traceback": [
      "\u001b[1;31m---------------------------------------------------------------------------\u001b[0m",
      "\u001b[1;31mRecursionError\u001b[0m                            Traceback (most recent call last)",
      "Cell \u001b[1;32mIn[76], line 7\u001b[0m\n\u001b[0;32m      4\u001b[0m     \u001b[38;5;28;01melse\u001b[39;00m:\n\u001b[0;32m      5\u001b[0m         \u001b[38;5;28;01mreturn\u001b[39;00m(func(func(n\u001b[38;5;241m+\u001b[39m\u001b[38;5;241m5\u001b[39m)))\n\u001b[1;32m----> 7\u001b[0m \u001b[38;5;28mprint\u001b[39m(func(\u001b[38;5;241m30\u001b[39m))\n",
      "Cell \u001b[1;32mIn[76], line 5\u001b[0m, in \u001b[0;36mfunc\u001b[1;34m(n)\u001b[0m\n\u001b[0;32m      3\u001b[0m     \u001b[38;5;28;01mreturn\u001b[39;00m n\u001b[38;5;241m-\u001b[39m\u001b[38;5;241m5\u001b[39m\n\u001b[0;32m      4\u001b[0m \u001b[38;5;28;01melse\u001b[39;00m:\n\u001b[1;32m----> 5\u001b[0m     \u001b[38;5;28;01mreturn\u001b[39;00m(func(func(n\u001b[38;5;241m+\u001b[39m\u001b[38;5;241m5\u001b[39m)))\n",
      "Cell \u001b[1;32mIn[76], line 5\u001b[0m, in \u001b[0;36mfunc\u001b[1;34m(n)\u001b[0m\n\u001b[0;32m      3\u001b[0m     \u001b[38;5;28;01mreturn\u001b[39;00m n\u001b[38;5;241m-\u001b[39m\u001b[38;5;241m5\u001b[39m\n\u001b[0;32m      4\u001b[0m \u001b[38;5;28;01melse\u001b[39;00m:\n\u001b[1;32m----> 5\u001b[0m     \u001b[38;5;28;01mreturn\u001b[39;00m(func(func(n\u001b[38;5;241m+\u001b[39m\u001b[38;5;241m5\u001b[39m)))\n",
      "    \u001b[1;31m[... skipping similar frames: func at line 5 (2973 times)]\u001b[0m\n",
      "Cell \u001b[1;32mIn[76], line 5\u001b[0m, in \u001b[0;36mfunc\u001b[1;34m(n)\u001b[0m\n\u001b[0;32m      3\u001b[0m     \u001b[38;5;28;01mreturn\u001b[39;00m n\u001b[38;5;241m-\u001b[39m\u001b[38;5;241m5\u001b[39m\n\u001b[0;32m      4\u001b[0m \u001b[38;5;28;01melse\u001b[39;00m:\n\u001b[1;32m----> 5\u001b[0m     \u001b[38;5;28;01mreturn\u001b[39;00m(func(func(n\u001b[38;5;241m+\u001b[39m\u001b[38;5;241m5\u001b[39m)))\n",
      "Cell \u001b[1;32mIn[76], line 1\u001b[0m, in \u001b[0;36mfunc\u001b[1;34m(n)\u001b[0m\n\u001b[1;32m----> 1\u001b[0m \u001b[38;5;28;01mdef\u001b[39;00m \u001b[38;5;21mfunc\u001b[39m(n):\n\u001b[0;32m      2\u001b[0m     \u001b[38;5;28;01mif\u001b[39;00m n\u001b[38;5;241m>\u001b[39m\u001b[38;5;241m50\u001b[39m:\n\u001b[0;32m      3\u001b[0m         \u001b[38;5;28;01mreturn\u001b[39;00m n\u001b[38;5;241m-\u001b[39m\u001b[38;5;241m5\u001b[39m\n",
      "\u001b[1;31mRecursionError\u001b[0m: maximum recursion depth exceeded"
     ]
    }
   ],
   "source": [
    "def func(n):\n",
    "    if n>50:\n",
    "        return n-5\n",
    "    else:\n",
    "        return(func(func(n+5)))\n",
    "\n",
    "print(func(30))"
   ]
  },
  {
   "cell_type": "markdown",
   "id": "d1db7fd7",
   "metadata": {},
   "source": [
    "In Nested functions super factorial like problems are preffred"
   ]
  },
  {
   "cell_type": "code",
   "execution_count": null,
   "id": "2125d830",
   "metadata": {},
   "outputs": [
    {
     "name": "stdout",
     "output_type": "stream",
     "text": [
      "288\n",
      "24\n",
      "6\n",
      "2\n"
     ]
    }
   ],
   "source": [
    "def sfact(n):\n",
    "    if n<=0:\n",
    "        return 1\n",
    "    return  fact(n)*sfact(n-1)\n",
    "def fact(n):\n",
    "    if n<=1:\n",
    "        return 1\n",
    "    return n*fact(n-1)\n",
    "\n",
    "print(sfact(4))\n",
    "print(fact(4))\n",
    "print(fact(3))\n",
    "print(fact(2))\n"
   ]
  },
  {
   "cell_type": "code",
   "execution_count": null,
   "id": "9b19de98",
   "metadata": {},
   "outputs": [
    {
     "name": "stdout",
     "output_type": "stream",
     "text": [
      "16\n",
      "27\n"
     ]
    }
   ],
   "source": [
    "#power tower - neted recursion\n",
    "def pt(a,n):\n",
    "    if n==1:\n",
    "        return a\n",
    "    return a**pt(a,n-1)\n",
    "\n",
    "\n",
    "print(pt(2,3))\n",
    "print(pt(3,2))"
   ]
  },
  {
   "cell_type": "code",
   "execution_count": null,
   "id": "60d1bdc9",
   "metadata": {},
   "outputs": [],
   "source": []
  },
  {
   "cell_type": "code",
   "execution_count": null,
   "id": "2bf39133",
   "metadata": {},
   "outputs": [],
   "source": []
  }
 ],
 "metadata": {
  "kernelspec": {
   "display_name": "base",
   "language": "python",
   "name": "python3"
  },
  "language_info": {
   "codemirror_mode": {
    "name": "ipython",
    "version": 3
   },
   "file_extension": ".py",
   "mimetype": "text/x-python",
   "name": "python",
   "nbconvert_exporter": "python",
   "pygments_lexer": "ipython3",
   "version": "3.12.7"
  }
 },
 "nbformat": 4,
 "nbformat_minor": 5
}
