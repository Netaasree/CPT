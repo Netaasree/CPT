{
 "cells": [
  {
   "cell_type": "code",
   "execution_count": 1,
   "metadata": {},
   "outputs": [
    {
     "name": "stdout",
     "output_type": "stream",
     "text": [
      "Hello\n"
     ]
    }
   ],
   "source": [
    "print(\"Hello\")"
   ]
  },
  {
   "cell_type": "code",
   "execution_count": null,
   "metadata": {},
   "outputs": [
    {
     "name": "stdout",
     "output_type": "stream",
     "text": [
      "from class method var 100\n",
      "from class method var 100\n"
     ]
    }
   ],
   "source": [
    "#private method usage\n",
    "class abc():\n",
    "    def __init__(self,var):\n",
    "        self.__var=var\n",
    "    def __display(self):\n",
    "        print(\"from class method var\",self.__var)\n",
    "obj=abc(100)\n",
    "obj._abc__display()"
   ]
  },
  {
   "cell_type": "code",
   "execution_count": 11,
   "metadata": {},
   "outputs": [
    {
     "name": "stdout",
     "output_type": "stream",
     "text": [
      "var is: 15\n"
     ]
    }
   ],
   "source": [
    "#code to call a class method from another method in the same class\n",
    "class abc():\n",
    "    def __init__(self,var):\n",
    "        self.var=var\n",
    "    def display(self):\n",
    "        print(\"var is:\",self.var)\n",
    "    def add_value(self):\n",
    "        self.var+=5\n",
    "        self.display()\n",
    "\n",
    "obj=abc(10)\n",
    "obj.add_value()"
   ]
  },
  {
   "cell_type": "code",
   "execution_count": 13,
   "metadata": {},
   "outputs": [
    {
     "name": "stdout",
     "output_type": "stream",
     "text": [
      "Var is:  10\n",
      "Var is:  100\n"
     ]
    }
   ],
   "source": [
    "#class method, which calls a function defind global namespace\n",
    "def aaa(x):\n",
    "    return x*10\n",
    "class sarada():\n",
    "    def __init__(self,var):\n",
    "        self.var=var\n",
    "    def display(self):\n",
    "        print(\"Var is: \",self.var)\n",
    "    def modify(self):\n",
    "        self.var=aaa(self.var)\n",
    "obj=sarada(10)\n",
    "obj.display()\n",
    "obj.modify()\n",
    "obj.display()"
   ]
  },
  {
   "cell_type": "code",
   "execution_count": 35,
   "metadata": {},
   "outputs": [
    {
     "name": "stdout",
     "output_type": "stream",
     "text": [
      "var is: 10\n",
      "obj has attribute var: True\n",
      "10\n",
      "After setting value, var is: 55\n"
     ]
    }
   ],
   "source": [
    "'''builtin function - get,set,delete\n",
    "getattr(),setattr() and deleteattr()'''\n",
    "\n",
    "class abc():\n",
    "    def __init__(self,var):\n",
    "        self.var=var\n",
    "    def display(self):\n",
    "        print(\"var is:\",self.var)\n",
    "obj=abc(10)\n",
    "obj.display()\n",
    "print(\"obj has attribute var:\",hasattr(obj,'var'))\n",
    "print(getattr(obj,'var'))\n",
    "setattr(obj,'var',55)\n",
    "print(\"After setting value, var is:\",obj.var)"
   ]
  },
  {
   "cell_type": "markdown",
   "metadata": {},
   "source": [
    "Built-in class attr\n",
    "1. .__doc__---when string doc is not specified\n",
    "2. .__dict__ namespace accesed attributes\n",
    "3. .__name__ returns class attr's name\n",
    "4. .__module__\n",
    "5. .__bases__ inheritance\n"
   ]
  },
  {
   "cell_type": "code",
   "execution_count": 40,
   "metadata": {},
   "outputs": [
    {
     "name": "stdout",
     "output_type": "stream",
     "text": [
      "var1: 10\n",
      "var2: 12.345\n",
      "object.__dict__: {'v1': 10, 'v2': 12.345}\n",
      "object.__doc__: None\n",
      "class.__name__: abc\n",
      "object.__module__: __main__\n",
      "class.__bases__: (<class 'object'>,)\n"
     ]
    }
   ],
   "source": [
    "class abc():\n",
    "    def __init__(self,v1,v2):\n",
    "        self.v1=v1\n",
    "        self.v2=v2\n",
    "    def display(self):\n",
    "        print(\"var1:\",self.v1)\n",
    "        print(\"var2:\",self.v2)\n",
    "\n",
    "obj=abc(10,12.345)\n",
    "obj.display()\n",
    "print(\"object.__dict__:\",obj.__dict__)\n",
    "print(\"object.__doc__:\",obj.__doc__)\n",
    "print(\"class.__name__:\",abc.__name__)\n",
    "print(\"object.__module__:\",obj.__module__)\n",
    "print(\"class.__bases__:\",abc.__bases__)\n",
    "\n"
   ]
  },
  {
   "cell_type": "markdown",
   "metadata": {},
   "source": [
    "#cpt links\n",
    "tinyurl.com/nri-dailytest\n",
    "tinyurl.com/cg-training-materials\n",
    "tinyurl.com/cgt-feedback1\n",
    "\n",
    "eswark@codegnan.com"
   ]
  },
  {
   "cell_type": "code",
   "execution_count": 44,
   "metadata": {},
   "outputs": [
    {
     "name": "stdout",
     "output_type": "stream",
     "text": [
      "vijay got [90, 99, 95]\n",
      "maheshbabu got [89, 90, 98]\n"
     ]
    }
   ],
   "source": [
    "'''program that uses class as student to store the name and marks \n",
    "of the student , use a list to store the marks of 3 subjects.\n",
    "constraints:\n",
    "1.Take class as student\n",
    "2.create a constructor for the student name\n",
    "3.create a function for marks,to be entered manully with in that \n",
    "class function and add the marks to the list\n",
    "4.display then student name and the marks he/she got\n",
    "5.pass the object's attributes of two student names\n",
    "tc:\n",
    "obj1:\"vijay\"\n",
    "obj2:\"anil\"\n",
    "output:vijay got [88,88,90]\n",
    "       anil got [77,78,90]\n",
    "'''\n",
    "class student:\n",
    "    def __init__(self,name):\n",
    "        self.name=name\n",
    "        self.marks=[]\n",
    "    def entermarks(self):\n",
    "        for i in range(3):\n",
    "            m=int(input(\"Enter %s marks in %d subject\"%(self.name,i+1)))\n",
    "            self.marks.append(m)\n",
    "    def display(self):\n",
    "        print(self.name,\"got\",self.marks)\n",
    "\n",
    "s1=student(\"vijay\")\n",
    "s1.entermarks()\n",
    "s2=student(\"maheshbabu\")\n",
    "s2.entermarks()\n",
    "s1.display()\n",
    "s2.display()"
   ]
  },
  {
   "cell_type": "code",
   "execution_count": null,
   "metadata": {},
   "outputs": [],
   "source": [
    "'''program that has class circle,use a class variable to define the value\n",
    "of constant pi.\n",
    "use this class variable to calculate the area and circumference of circle with\n",
    "specified radius\n",
    "constraints:\n",
    ".pi with the class variable as 3.14159\n",
    ".radius=7.5\n",
    ".return the area and cricuference values to main program by creating function\n",
    "with in the class respectively'''\n",
    "\n",
    "class circle():\n",
    "    pi=3.14159\n",
    "    def __init__(self,radius):\n",
    "        self.radius=radius\n",
    "    def area(self):\n",
    "        r=self.radius\n",
    "        a=pi*r*r\n",
    "    def circumference(self):\n",
    "        r=self.radius\n",
    "        c=\n",
    "\n"
   ]
  }
 ],
 "metadata": {
  "kernelspec": {
   "display_name": "base",
   "language": "python",
   "name": "python3"
  },
  "language_info": {
   "codemirror_mode": {
    "name": "ipython",
    "version": 3
   },
   "file_extension": ".py",
   "mimetype": "text/x-python",
   "name": "python",
   "nbconvert_exporter": "python",
   "pygments_lexer": "ipython3",
   "version": "3.12.7"
  }
 },
 "nbformat": 4,
 "nbformat_minor": 2
}
