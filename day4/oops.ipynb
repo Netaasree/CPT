{
 "cells": [
  {
   "cell_type": "code",
   "execution_count": 106,
   "id": "b96791ad",
   "metadata": {},
   "outputs": [
    {
     "name": "stdout",
     "output_type": "stream",
     "text": [
      "100\n",
      "This is a class method\n"
     ]
    }
   ],
   "source": [
    "class abc():\n",
    "    var=100\n",
    "    def display(self):\n",
    "        print(\"This is a class method\")\n",
    "obj=abc()\n",
    "print(obj.var)\n",
    "obj.display()"
   ]
  },
  {
   "cell_type": "code",
   "execution_count": 107,
   "id": "018f59c8",
   "metadata": {},
   "outputs": [
    {
     "name": "stdout",
     "output_type": "stream",
     "text": [
      "This is a class method\n",
      "The value is:  10\n",
      "This is a class method\n",
      "The value is:  20\n",
      "This is a class method\n",
      "The value is:  30\n"
     ]
    }
   ],
   "source": [
    "#class constructor __init__(method)\n",
    "class abc():\n",
    "    def __init__(self,val):\n",
    "        print(\"This is a class method\")\n",
    "        self.val=val\n",
    "        print(\"The value is: \",val)\n",
    "\n",
    "obj=abc(10)\n",
    "obj=abc(20)\n",
    "obj=abc(30)"
   ]
  },
  {
   "cell_type": "code",
   "execution_count": 108,
   "id": "b64b38a8",
   "metadata": {},
   "outputs": [
    {
     "name": "stdout",
     "output_type": "stream",
     "text": [
      "Object var: 10\n",
      "Class var: 1\n",
      "Object var: 20\n",
      "Class var: 2\n",
      "Object var: 60\n",
      "Class var: 3\n"
     ]
    }
   ],
   "source": [
    "#class obj variables\n",
    "class abc():\n",
    "    cv=0\n",
    "    def __init__(self,var):\n",
    "        abc.cv+=1\n",
    "        self.var=var\n",
    "        print(\"Object var:\",var)\n",
    "        print(\"Class var:\",abc.cv)\n",
    "obj=abc(10)\n",
    "obj=abc(20)\n",
    "obj=abc(60)"
   ]
  },
  {
   "cell_type": "code",
   "execution_count": 109,
   "id": "48e03051",
   "metadata": {},
   "outputs": [
    {
     "name": "stdout",
     "output_type": "stream",
     "text": [
      "Even\n",
      "Odd\n"
     ]
    }
   ],
   "source": [
    "class check():\n",
    "    def __init__(self,var):\n",
    "        if var%2==0:\n",
    "            print(\"Even\")\n",
    "        else:\n",
    "            print(\"Odd\")\n",
    "\n",
    "obj=check(2)\n",
    "obj=check(7)"
   ]
  },
  {
   "cell_type": "code",
   "execution_count": 110,
   "id": "1543489e",
   "metadata": {},
   "outputs": [
    {
     "name": "stdout",
     "output_type": "stream",
     "text": [
      "23 is odd\n"
     ]
    }
   ],
   "source": [
    "'''Code to illustrate the modification of an instance variable to check wheather \n",
    "the passing attribute is even or odd,by creating a class number and function to check even or odd'''\n",
    "class number:\n",
    "    even=0\n",
    "    def check(self,num):\n",
    "        if num%2==0:\n",
    "            self.even=1\n",
    "    def eo(self,num):\n",
    "        self.check(num)\n",
    "        if self.even==1:\n",
    "            print(num,\"is even\")\n",
    "        else:\n",
    "            print(num,\"is odd\")\n",
    "\n",
    "\n",
    "n=number()\n",
    "n.eo(23)"
   ]
  },
  {
   "cell_type": "markdown",
   "id": "96a10c8b",
   "metadata": {},
   "source": [
    "'''segregate the even and odd parameters in a list and print even list and \n",
    "odd list seperately using a class \"number\" \n",
    "n1=number(21)\n",
    "n2=number(32)\n",
    "n3=number(43)\n",
    "n4=number(54)\n",
    "n5=number(65)\n",
    "\n",
    "o/p:even numbers:[32,54]\n",
    "odd numbers:[21,43,65]\n",
    "'''"
   ]
  },
  {
   "cell_type": "code",
   "execution_count": 111,
   "id": "00ab0254",
   "metadata": {},
   "outputs": [
    {
     "name": "stdout",
     "output_type": "stream",
     "text": [
      "[20, 88, 80]\n",
      "[27, 7]\n"
     ]
    }
   ],
   "source": [
    "class number:\n",
    "    lis1=[]\n",
    "    lis2=[]\n",
    "    def even(self,val):\n",
    "        self.lis1.append(val)\n",
    "    def odd(self,val):\n",
    "        self.lis2.append(val)\n",
    "    def check(self,val):\n",
    "        if val%2==0:\n",
    "            self.even(val)\n",
    "        else:\n",
    "            self.odd(val)\n",
    "    def print(self):\n",
    "        print(self.lis1)\n",
    "        print(self.lis2)\n",
    "\n",
    "\n",
    "obj=number()\n",
    "obj.check(20)\n",
    "obj.check(27)\n",
    "obj.check(88)\n",
    "obj.check(7)\n",
    "obj.check(80)\n",
    "obj.print()"
   ]
  },
  {
   "cell_type": "code",
   "execution_count": 112,
   "id": "009faac9",
   "metadata": {},
   "outputs": [
    {
     "name": "stdout",
     "output_type": "stream",
     "text": [
      "Even: [88]\n",
      "Odd: [45, 47]\n"
     ]
    }
   ],
   "source": [
    "class number:\n",
    "    evens=[]\n",
    "    odds=[]\n",
    "    def __init__(self,num):\n",
    "        self.num=num\n",
    "        if num%2==0:\n",
    "            self.evens.append(num)\n",
    "        else:\n",
    "            self.odds.append(num)\n",
    "    \n",
    "\n",
    "number(45)\n",
    "number(47)\n",
    "number(88)\n",
    "print(\"Even:\",number.evens)\n",
    "print(\"Odd:\",number.odds)"
   ]
  },
  {
   "cell_type": "markdown",
   "id": "3d511671",
   "metadata": {},
   "source": [
    "Delete function"
   ]
  },
  {
   "cell_type": "code",
   "execution_count": 113,
   "id": "9ca8cfba",
   "metadata": {},
   "outputs": [
    {
     "name": "stdout",
     "output_type": "stream",
     "text": [
      "Object var: 10\n",
      "Class var: 1\n",
      "Object var: 20\n",
      "Class var: 2\n",
      "Object var: 60\n",
      "Class var: 3\n",
      "Object with 10 is going out of scope \n",
      "Object with 20 is going out of scope \n",
      "Object with 60 is going out of scope \n"
     ]
    }
   ],
   "source": [
    "class abc():\n",
    "    cv=0\n",
    "    def __init__(self,var):\n",
    "        abc.cv+=1\n",
    "        self.var=var\n",
    "        print(\"Object var:\",var)\n",
    "        print(\"Class var:\",abc.cv)\n",
    "    def __del__(self):\n",
    "        abc.cv-=1\n",
    "        print(\"Object with %d is going out of scope \"%self.var)\n",
    "obj1=abc(10)\n",
    "obj2=abc(20)\n",
    "obj3=abc(60)\n",
    "#print(obj1.var)\n",
    "#print(obj1.cv)\n",
    "del obj1\n",
    "del obj2\n",
    "del obj3"
   ]
  },
  {
   "cell_type": "code",
   "execution_count": 115,
   "id": "dcc7fd53",
   "metadata": {},
   "outputs": [
    {
     "name": "stdout",
     "output_type": "stream",
     "text": [
      "The value stored in object is: 10\n",
      "The length of name stored in object: 6\n",
      "second value is less than first\n"
     ]
    }
   ],
   "source": [
    "class abc():\n",
    "    def __init__(self,name,var):\n",
    "        self.name=name\n",
    "        self.var=var\n",
    "    def __repr__(self):\n",
    "        return repr(self.var)\n",
    "    def __len__(self):\n",
    "        return len(self.name)\n",
    "    def __cmp__(self,obj):\n",
    "        return self.var-obj.var\n",
    "\n",
    "obj=abc(\"abcdef\",10)\n",
    "print(\"The value stored in object is:\",repr(obj))\n",
    "print(\"The length of name stored in object:\",len(obj))\n",
    "obj1=abc(\"ghijkl\",1)\n",
    "val=obj.__cmp__(obj1)\n",
    "if val==0:\n",
    "    print(\"Both values are equal\")\n",
    "elif val==1:\n",
    "    print(\"First value is less than second\")\n",
    "else:\n",
    "    print(\"second value is less than first\")"
   ]
  },
  {
   "cell_type": "code",
   "execution_count": 116,
   "id": "3188adaf",
   "metadata": {},
   "outputs": [
    {
     "name": "stdout",
     "output_type": "stream",
     "text": [
      "<__main__.numbers object at 0x00000216CAE30B50>\n",
      "[1, 2, 3, 10, 5, 6, 7, 8, 9]\n"
     ]
    }
   ],
   "source": [
    "class numbers:\n",
    "    def __init__(self,mylist):\n",
    "        self.mylist=mylist\n",
    "    def __getitem__(self,index):\n",
    "        return self.mylist[index]\n",
    "    def __setitem__(self,index,val):\n",
    "        self.mylist[index]=val\n",
    "\n",
    "numlist=numbers([1,2,3,4,5,6,7,8,9])\n",
    "print(numlist)\n",
    "numlist[3]=10\n",
    "print(numlist.mylist)"
   ]
  }
 ],
 "metadata": {
  "kernelspec": {
   "display_name": "base",
   "language": "python",
   "name": "python3"
  },
  "language_info": {
   "codemirror_mode": {
    "name": "ipython",
    "version": 3
   },
   "file_extension": ".py",
   "mimetype": "text/x-python",
   "name": "python",
   "nbconvert_exporter": "python",
   "pygments_lexer": "ipython3",
   "version": "3.11.3"
  }
 },
 "nbformat": 4,
 "nbformat_minor": 5
}
