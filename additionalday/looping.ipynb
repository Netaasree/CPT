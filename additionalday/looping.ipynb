{
 "cells": [
  {
   "cell_type": "code",
   "execution_count": 14,
   "id": "20a40bce",
   "metadata": {},
   "outputs": [
    {
     "name": "stdout",
     "output_type": "stream",
     "text": [
      "$ $ $ $ $ \n",
      "$ $ $ $ $ \n",
      "$ $ $ $ $ \n",
      "$ $ $ $ $ \n",
      "$ $ $ $ $ \n"
     ]
    }
   ],
   "source": [
    "size=int(input(\"Enter the size of the matrix: \"))\n",
    "for i in range(size):\n",
    "    for j in range(size):\n",
    "        print('$',end=' ')\n",
    "    print()"
   ]
  },
  {
   "cell_type": "code",
   "execution_count": 17,
   "id": "45a782fa",
   "metadata": {},
   "outputs": [
    {
     "name": "stdout",
     "output_type": "stream",
     "text": [
      "$ $ $ $ $ \n",
      "$       $ \n",
      "$       $ \n",
      "$       $ \n",
      "$ $ $ $ $ \n"
     ]
    }
   ],
   "source": [
    "n=5\n",
    "for i in range(n):\n",
    "    for j in range(n):\n",
    "        if i==0 or i==n-1 or j==0 or j==n-1:\n",
    "            print(\"$\",end=\" \")\n",
    "        else:\n",
    "            print(' ',end=\" \")\n",
    "    print()"
   ]
  },
  {
   "cell_type": "code",
   "execution_count": 20,
   "id": "e03fc85d",
   "metadata": {},
   "outputs": [
    {
     "name": "stdout",
     "output_type": "stream",
     "text": [
      "$ $ $ $ $ $ $ \n",
      "$ $       $ $ \n",
      "$   $   $   $ \n",
      "$     $     $ \n",
      "$   $   $   $ \n",
      "$ $       $ $ \n",
      "$ $ $ $ $ $ $ \n"
     ]
    }
   ],
   "source": [
    "n=7\n",
    "for i in range(n):\n",
    "    for j in range(n):\n",
    "        if i==0 or i==n-1 or j==0 or j==n-1 or i==j or i+j==n-1:\n",
    "            print(\"$\",end=\" \")\n",
    "        else:\n",
    "            print(' ',end=\" \")\n",
    "    print()"
   ]
  },
  {
   "cell_type": "code",
   "execution_count": 22,
   "id": "c95bfcfb",
   "metadata": {},
   "outputs": [
    {
     "name": "stdout",
     "output_type": "stream",
     "text": [
      "$             \n",
      "$ $           \n",
      "$   $         \n",
      "$     $       \n",
      "$       $     \n",
      "$         $   \n",
      "$ $ $ $ $ $ $ \n"
     ]
    }
   ],
   "source": [
    "n=7\n",
    "for i in range(n):\n",
    "    for j in range(n):\n",
    "        if i==n-1 or j==0 or i==j:\n",
    "            print(\"$\",end=\" \")\n",
    "        else:\n",
    "            print(' ',end=\" \")\n",
    "    print()"
   ]
  },
  {
   "cell_type": "code",
   "execution_count": null,
   "id": "ca406b07",
   "metadata": {},
   "outputs": [],
   "source": []
  }
 ],
 "metadata": {
  "kernelspec": {
   "display_name": "base",
   "language": "python",
   "name": "python3"
  },
  "language_info": {
   "codemirror_mode": {
    "name": "ipython",
    "version": 3
   },
   "file_extension": ".py",
   "mimetype": "text/x-python",
   "name": "python",
   "nbconvert_exporter": "python",
   "pygments_lexer": "ipython3",
   "version": "3.12.7"
  }
 },
 "nbformat": 4,
 "nbformat_minor": 5
}
