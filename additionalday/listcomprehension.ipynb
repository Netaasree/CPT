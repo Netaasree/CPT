{
 "cells": [
  {
   "cell_type": "code",
   "execution_count": 1,
   "id": "2180a02c-bb6b-47c6-a014-60ca679800e7",
   "metadata": {},
   "outputs": [
    {
     "name": "stdout",
     "output_type": "stream",
     "text": [
      "[0, 1, 4, 9, 16]\n"
     ]
    }
   ],
   "source": [
    "sq=[x**2 for x in range(5)]\n",
    "print(sq)"
   ]
  },
  {
   "cell_type": "code",
   "execution_count": 4,
   "id": "e2429746",
   "metadata": {},
   "outputs": [
    {
     "name": "stdout",
     "output_type": "stream",
     "text": [
      "['APPLE', 'KIWI', 'BANANA']\n",
      "APPLE\n"
     ]
    }
   ],
   "source": [
    "data=['apple','kiwi','banana']\n",
    "words=[i.upper() for  i in data]\n",
    "print(words)\n",
    "print(data[0].upper())"
   ]
  },
  {
   "cell_type": "code",
   "execution_count": 8,
   "id": "acce81b7",
   "metadata": {},
   "outputs": [
    {
     "name": "stdout",
     "output_type": "stream",
     "text": [
      "[1, 2, 3, 4, 5, 6, 7, 8, 9]\n"
     ]
    }
   ],
   "source": [
    "#nested list comprehension on 2d matrix to flatten\n",
    "matrix=[[1,2,3],[4,5,6],[7,8,9]]\n",
    "flat=[num for row in matrix for num in row]\n",
    "print(flat)"
   ]
  },
  {
   "cell_type": "code",
   "execution_count": 10,
   "id": "a7ff4912",
   "metadata": {},
   "outputs": [
    {
     "name": "stdout",
     "output_type": "stream",
     "text": [
      "[0, 0, 20, 0, 1, 2]\n"
     ]
    }
   ],
   "source": [
    "#using logical condition , replace all the negative numbers with zeros\n",
    "nums=[-2,-1,20,0,1,2]\n",
    "nonneg=[x if x>=0 else 0 for x in nums]\n",
    "print(nonneg)"
   ]
  },
  {
   "cell_type": "code",
   "execution_count": 14,
   "id": "ad53c198",
   "metadata": {},
   "outputs": [
    {
     "name": "stdout",
     "output_type": "stream",
     "text": [
      "[5, 4, 7]\n"
     ]
    }
   ],
   "source": [
    "#Captalizing the first letter of every word\n",
    "words=['apple','kiwi','bannana']\n",
    "fc=[len(word) for word in words]\n",
    "print(fc)"
   ]
  },
  {
   "cell_type": "code",
   "execution_count": 23,
   "id": "ac6cc66e",
   "metadata": {},
   "outputs": [
    {
     "name": "stdout",
     "output_type": "stream",
     "text": [
      "[1, 0, 2, 0, 3, 4, 5]\n",
      "[1, 2, 3, 4, 5]\n"
     ]
    }
   ],
   "source": [
    "#filterinng None values\n",
    "items=[1,None,2,None,3,4,5]\n",
    "valid=[x for x in items if x is not None]\n",
    "valid2=[x if x is not None else 0 for x in items]\n",
    "print(valid2)\n",
    "print(valid)"
   ]
  },
  {
   "cell_type": "code",
   "execution_count": 25,
   "id": "6b67ee53",
   "metadata": {},
   "outputs": [
    {
     "name": "stdout",
     "output_type": "stream",
     "text": [
      "[('Vijay', 33), ('Vijay', 44), ('Mark', 33), ('Mark', 44)]\n"
     ]
    }
   ],
   "source": [
    "#Testing tuples\n",
    "names=['Vijay','Mark']\n",
    "ages=[33,44]\n",
    "pair=[(name,age) for name in names for age in ages]\n",
    "print(pair)"
   ]
  },
  {
   "cell_type": "code",
   "execution_count": 1,
   "id": "182e0d19",
   "metadata": {},
   "outputs": [
    {
     "name": "stdout",
     "output_type": "stream",
     "text": [
      "e\n",
      "o\n",
      "u\n",
      "e\n",
      "['e', 'o', 'u', 'e']\n",
      "['e', 'o', 'u', 'e']\n",
      "hello\n"
     ]
    }
   ],
   "source": [
    "#Given a string,create a list of all vowels in the string using list comprehension\n",
    "text='hello students'\n",
    "#output=['e','o','u','e']\n",
    "ovels=['a','e','i','o','u','A','E','I','O','U']\n",
    "for i in text:\n",
    "    if i in ovels:\n",
    "        print(i)\n",
    "res=[i for i in text if i in 'aeiouAEIOU']\n",
    "res2=[i for i in text if i.lower() in 'aeiou']\n",
    "print(res)\n",
    "print(res2)\n",
    "print(\"hello\")"
   ]
  }
 ],
 "metadata": {
  "kernelspec": {
   "display_name": "base",
   "language": "python",
   "name": "python3"
  },
  "language_info": {
   "codemirror_mode": {
    "name": "ipython",
    "version": 3
   },
   "file_extension": ".py",
   "mimetype": "text/x-python",
   "name": "python",
   "nbconvert_exporter": "python",
   "pygments_lexer": "ipython3",
   "version": "3.12.7"
  }
 },
 "nbformat": 4,
 "nbformat_minor": 5
}
