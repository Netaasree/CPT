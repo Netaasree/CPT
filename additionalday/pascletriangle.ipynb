{
 "cells": [
  {
   "cell_type": "code",
   "execution_count": 1,
   "id": "0572bd3c",
   "metadata": {},
   "outputs": [
    {
     "name": "stdout",
     "output_type": "stream",
     "text": [
      "0 0 0 0 0 0 \n",
      "0 0 0 0 1 1 1 \n",
      "0 0 0 2 2 2 2 2 \n",
      "0 0 3 3 3 3 3 3 3 \n",
      "0 4 4 4 4 4 4 4 4 4 \n",
      "5 5 5 5 5 5 5 5 5 5 5 \n"
     ]
    }
   ],
   "source": [
    "rows=6\n",
    "for i in range(rows):\n",
    "    for j in range(rows-i-1):\n",
    "        print(\"0\",end=' ')\n",
    "    for k in range(2*i+1):\n",
    "        print(i,end=' ')\n",
    "    print()"
   ]
  },
  {
   "cell_type": "code",
   "execution_count": 7,
   "id": "6ff8cd88",
   "metadata": {},
   "outputs": [
    {
     "name": "stdout",
     "output_type": "stream",
     "text": [
      "          * \n",
      "        * * * \n",
      "      * * * * * \n",
      "    * * * * * * * \n",
      "  * * * * * * * * * \n",
      "* * * * * * * * * * * \n"
     ]
    }
   ],
   "source": [
    "rows=6\n",
    "for i in range(rows):\n",
    "    for j in range(rows-i-1):\n",
    "        print(\" \",end=' ')\n",
    "    for k in range(2*i+1):\n",
    "        print(\"*\",end=' ')\n",
    "    print()\n",
    "        "
   ]
  },
  {
   "cell_type": "code",
   "execution_count": 11,
   "id": "122a13f9",
   "metadata": {},
   "outputs": [
    {
     "name": "stdout",
     "output_type": "stream",
     "text": [
      "          1   \n",
      "        1   1   \n",
      "      1   2   1   \n",
      "    1   3   3   1   \n",
      "  1   4   6   4   1   \n",
      "1   5   10   10   5   1   \n"
     ]
    }
   ],
   "source": [
    "rows=6\n",
    "for i in range(rows):\n",
    "    num=1\n",
    "    for j in range(rows-i-1):\n",
    "        print(' ',end=' ')\n",
    "    for k in range(i+1):\n",
    "        print(num,end='   ')\n",
    "        num=num*(i-k)//(k+1)\n",
    "    print()"
   ]
  },
  {
   "cell_type": "code",
   "execution_count": null,
   "id": "29f61df6",
   "metadata": {},
   "outputs": [],
   "source": [
    "#program to print alphabets in a lexciographical order(pyramid pattern)\n",
    "#A->Z\n"
   ]
  },
  {
   "cell_type": "code",
   "execution_count": 1,
   "id": "d2a8a471",
   "metadata": {},
   "outputs": [
    {
     "name": "stdout",
     "output_type": "stream",
     "text": [
      "[1, 2, 3, 4]\n",
      "[12, 13, 14, 5]\n",
      "[11, 16, 15, 6]\n",
      "[10, 9, 8, 7]\n"
     ]
    }
   ],
   "source": [
    "#spiral or clock wise pattern\n",
    "n = 4\n",
    "matrix = [[0] * n for _ in range(n)]\n",
    "\n",
    "num = 1\n",
    "top = 0\n",
    "bottom = n - 1\n",
    "left = 0\n",
    "right = n - 1\n",
    "\n",
    "while top <= bottom and left <= right:\n",
    "    # Fill top row (left to right)\n",
    "    for i in range(left, right + 1):\n",
    "        matrix[top][i] = num\n",
    "        num += 1\n",
    "    top += 1\n",
    "\n",
    "    # Fill right column (top to bottom)\n",
    "    for i in range(top, bottom + 1):\n",
    "        matrix[i][right] = num\n",
    "        num += 1\n",
    "    right -= 1\n",
    "\n",
    "    # Fill bottom row (right to left)\n",
    "    if top <= bottom:\n",
    "        for i in range(right, left - 1, -1):\n",
    "            matrix[bottom][i] = num\n",
    "            num += 1\n",
    "        bottom -= 1\n",
    "\n",
    "    # Fill left column (bottom to top)\n",
    "    if left <= right:\n",
    "        for i in range(bottom, top - 1, -1):\n",
    "            matrix[i][left] = num\n",
    "            num += 1\n",
    "        left += 1\n",
    "\n",
    "# Print the matrix\n",
    "for row in matrix:\n",
    "    print(row)\n"
   ]
  }
 ],
 "metadata": {
  "kernelspec": {
   "display_name": "Python 3",
   "language": "python",
   "name": "python3"
  },
  "language_info": {
   "codemirror_mode": {
    "name": "ipython",
    "version": 3
   },
   "file_extension": ".py",
   "mimetype": "text/x-python",
   "name": "python",
   "nbconvert_exporter": "python",
   "pygments_lexer": "ipython3",
   "version": "3.11.5"
  }
 },
 "nbformat": 4,
 "nbformat_minor": 5
}
