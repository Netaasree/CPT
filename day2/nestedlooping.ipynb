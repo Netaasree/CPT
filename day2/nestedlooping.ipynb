{
 "cells": [
  {
   "cell_type": "code",
   "execution_count": 2,
   "id": "77e125d8-b175-46c1-afea-00d1199cbee3",
   "metadata": {},
   "outputs": [
    {
     "name": "stdout",
     "output_type": "stream",
     "text": [
      "Hi\n"
     ]
    }
   ],
   "source": [
    "print(\"Hi\")"
   ]
  },
  {
   "cell_type": "code",
   "execution_count": 17,
   "id": "c36ec441",
   "metadata": {},
   "outputs": [
    {
     "name": "stdout",
     "output_type": "stream",
     "text": [
      "# # # # # \n",
      "# # # # # \n",
      "# # # # # \n",
      "# # # # # \n",
      "# # # # # \n"
     ]
    }
   ],
   "source": [
    "#program\n",
    "n=int(input(\"Enter the size: \"))\n",
    "for i in range(1,n+1):\n",
    "    for j in range(1,n+1):\n",
    "        print(\"#\",end=\" \")\n",
    "    print()\n",
    "    \n"
   ]
  },
  {
   "cell_type": "code",
   "execution_count": 16,
   "id": "eeaf8d7a",
   "metadata": {},
   "outputs": [
    {
     "name": "stdout",
     "output_type": "stream",
     "text": [
      "* * * * * \n",
      "*       * \n",
      "*       * \n",
      "*       * \n",
      "* * * * * \n"
     ]
    }
   ],
   "source": [
    "'''\n",
    " # # # #\n",
    " #     #\n",
    " #     #\n",
    " # # # #\n",
    " '''\n",
    "#program for empty square (still have to edit prog worng)\n",
    "n=int(input(\"Enter the size: \"))\n",
    "for i in range(n):\n",
    "    for j in range(n):\n",
    "        if i==0 or i==n-1 or j==0 or j==n-1:\n",
    "            print(\"*\",end=\" \")\n",
    "        else:\n",
    "            print(\" \",end=\" \")\n",
    "    print()\n",
    "        \n",
    "        \n",
    "    "
   ]
  },
  {
   "cell_type": "code",
   "execution_count": null,
   "id": "0c4ee236",
   "metadata": {},
   "outputs": [
    {
     "name": "stdout",
     "output_type": "stream",
     "text": [
      "* * * * * * * \n",
      "* *       * * \n",
      "*   *   *   * \n",
      "*     *     * \n",
      "*   *   *   * \n",
      "* *       * * \n",
      "* * * * * * * \n"
     ]
    }
   ],
   "source": [
    "'''\n",
    "* * * * * * * \n",
    "* *       * * \n",
    "*   *   *   * \n",
    "*     *     * \n",
    "*   *   *   * \n",
    "* *       * * \n",
    "* * * * * * *\n",
    "''' \n",
    "#Hallow square pattern\n",
    "n=int(input(\"enter the size: \"))\n",
    "for i in range(n):\n",
    "    for j in range(n):\n",
    "        if i==0 or i==n-1 or j==0 or j==n-1 or i==j or i+j==n-1:\n",
    "            print('*',end=' ')\n",
    "        else:\n",
    "            print(' ',end=' ')\n",
    "    print()"
   ]
  },
  {
   "cell_type": "code",
   "execution_count": null,
   "id": "93cb5789",
   "metadata": {},
   "outputs": [
    {
     "name": "stdout",
     "output_type": "stream",
     "text": [
      "*           * \n",
      "  *       *   \n",
      "    *   *     \n",
      "      *       \n",
      "    *   *     \n",
      "  *       *   \n",
      "*           * \n"
     ]
    }
   ],
   "source": [
    "'''\n",
    "*           * \n",
    "  *       *   \n",
    "    *   *     \n",
    "      *       \n",
    "    *   *     \n",
    "  *       *   \n",
    "*           * \n",
    "''' \n",
    "#only diagonals of the square\n",
    "n=int(input(\"enter the size: \"))\n",
    "for i in range(n):\n",
    "    for j in range(n):\n",
    "        if i==j or i+j==n-1:\n",
    "            print('*',end=' ')\n",
    "        else:\n",
    "            print(' ',end=' ')\n",
    "    print()"
   ]
  },
  {
   "cell_type": "code",
   "execution_count": 40,
   "id": "89cdb2ff",
   "metadata": {},
   "outputs": [
    {
     "name": "stdout",
     "output_type": "stream",
     "text": [
      "+++++++++\n",
      " +++++++\n",
      "  +++++\n",
      "   +++\n",
      "    +\n",
      "        +++\n",
      "        +++++\n",
      "        +++++++\n"
     ]
    }
   ],
   "source": [
    "#time sand pattern\n",
    "n=5\n",
    "totalrows=(n*2)-1\n",
    "for i in range(1,totalrows):\n",
    "    if i<=n:\n",
    "        spaces=i-1\n",
    "        stars=2*(n-i)+1\n",
    "    else:\n",
    "        spaces=totalrows-1\n",
    "        stars=2*(i-n)+1\n",
    "    print(\" \"*spaces+\"+\"*stars)\n",
    "###code not done yet\n",
    "\n"
   ]
  },
  {
   "cell_type": "code",
   "execution_count": 42,
   "id": "9733b51c",
   "metadata": {},
   "outputs": [
    {
     "name": "stdout",
     "output_type": "stream",
     "text": [
      "       1 \n",
      "      1 1 \n",
      "     1 2 1 \n",
      "    1 3 3 1 \n",
      "   1 4 6 4 1 \n",
      "  1 5 10 10 5 1 \n"
     ]
    }
   ],
   "source": [
    "#pascals triangle\n",
    "n=6\n",
    "for i in range(n):\n",
    "    print(\" \" * (n-i),end=' ')\n",
    "    num=1\n",
    "    for j in range(i+1):\n",
    "        print(num,end=' ')\n",
    "        num=num*(i-j)//(j+1)\n",
    "    print()\n"
   ]
  },
  {
   "cell_type": "code",
   "execution_count": 50,
   "id": "91c2d11a",
   "metadata": {},
   "outputs": [
    {
     "name": "stdout",
     "output_type": "stream",
     "text": [
      "       1 \n",
      "      1 1 \n",
      "     1 2 1 \n",
      "    1 3 3 1 \n",
      "   1 4 6 4 1 \n",
      "  1 5 10 10 5 1 \n"
     ]
    }
   ],
   "source": [
    "#pascals method 2\n",
    "n=6\n",
    "tri=[[0 for _ in range(i+1)] for i in range(n)]\n",
    "for i in range(n):\n",
    "    tri[i][0]=1\n",
    "    tri[i][i]=1\n",
    "    for j in range(1,i):\n",
    "        tri[i][j]=tri[i-1][j-1]+tri[i-1][j]\n",
    "for i in range(n):\n",
    "    print(\" \"*(n-i),end=' ')\n",
    "    for num in tri[i]:\n",
    "        print(num,end=' ')\n",
    "    print()"
   ]
  },
  {
   "cell_type": "code",
   "execution_count": 51,
   "id": "8ac90be7",
   "metadata": {},
   "outputs": [
    {
     "name": "stdout",
     "output_type": "stream",
     "text": [
      "[[0], [0, 0], [0, 0, 0], [0, 0, 0, 0], [0, 0, 0, 0, 0], [0, 0, 0, 0, 0, 0]]\n"
     ]
    }
   ],
   "source": [
    "n=6\n",
    "tri=[[0 for _ in range(i+1)] for i in range(n)]\n",
    "print(tri)"
   ]
  },
  {
   "cell_type": "code",
   "execution_count": null,
   "id": "bcfb506c",
   "metadata": {},
   "outputs": [],
   "source": []
  }
 ],
 "metadata": {
  "kernelspec": {
   "display_name": "base",
   "language": "python",
   "name": "python3"
  },
  "language_info": {
   "codemirror_mode": {
    "name": "ipython",
    "version": 3
   },
   "file_extension": ".py",
   "mimetype": "text/x-python",
   "name": "python",
   "nbconvert_exporter": "python",
   "pygments_lexer": "ipython3",
   "version": "3.12.7"
  }
 },
 "nbformat": 4,
 "nbformat_minor": 5
}
