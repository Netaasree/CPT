{
 "cells": [
  {
   "cell_type": "code",
   "execution_count": null,
   "id": "6dadcb2d",
   "metadata": {},
   "outputs": [
    {
     "name": "stdout",
     "output_type": "stream",
     "text": [
      "Hi\n"
     ]
    }
   ],
   "source": [
    "print(\"Hi\")\n",
    "https://meet.google.com/jux-jyzp-kqs"
   ]
  },
  {
   "cell_type": "code",
   "execution_count": 1,
   "id": "db0ead51",
   "metadata": {},
   "outputs": [
    {
     "name": "stdout",
     "output_type": "stream",
     "text": [
      "Hello mahesh\n",
      "Hello vijay\n"
     ]
    }
   ],
   "source": [
    "#over loading sample\n",
    "def hi(name=\"mahesh\"):\n",
    "    print(\"Hello\",name)\n",
    "hi()\n",
    "hi('vijay')\n"
   ]
  },
  {
   "cell_type": "code",
   "execution_count": 1,
   "id": "bf004917",
   "metadata": {},
   "outputs": [
    {
     "name": "stdout",
     "output_type": "stream",
     "text": [
      "707\n"
     ]
    }
   ],
   "source": [
    "#multiple arg overlading\n",
    "def abc(*args):\n",
    "    return sum(args)\n",
    "print(abc(12,5,35,655))\n",
    "\n"
   ]
  },
  {
   "cell_type": "code",
   "execution_count": 7,
   "id": "2803d1e6",
   "metadata": {},
   "outputs": [
    {
     "name": "stdout",
     "output_type": "stream",
     "text": [
      "No data\n",
      "Name:vijay\n",
      "Name: steve,Age: 26\n"
     ]
    },
    {
     "data": {
      "text/plain": [
       "<__main__.student at 0x1c57083e720>"
      ]
     },
     "execution_count": 7,
     "metadata": {},
     "output_type": "execute_result"
    }
   ],
   "source": [
    "#simple overloading using class with constructor\n",
    "class student():\n",
    "    def __init__(self,name=None,age=None):\n",
    "        if name and age:\n",
    "            print(f\"Name: {name},Age: {age}\")\n",
    "        elif name:\n",
    "            print(f\"Name:{name}\")\n",
    "        else:\n",
    "            print(\"No data\")\n",
    "\n",
    "student()\n",
    "student(\"vijay\")\n",
    "student(\"steve\",26)"
   ]
  },
  {
   "cell_type": "code",
   "execution_count": 10,
   "id": "839ab714",
   "metadata": {},
   "outputs": [
    {
     "name": "stdout",
     "output_type": "stream",
     "text": [
      "True\n",
      "True\n"
     ]
    }
   ],
   "source": [
    "class pet:\n",
    "    pass\n",
    "class dog(pet):\n",
    "    pass\n",
    "\n",
    "\n",
    "d=dog()\n",
    "print(isinstance(d,dog))\n",
    "print(isinstance(d,pet))\n",
    "\n"
   ]
  },
  {
   "cell_type": "code",
   "execution_count": 11,
   "id": "5fd81f06",
   "metadata": {},
   "outputs": [
    {
     "name": "stdout",
     "output_type": "stream",
     "text": [
      "4,7\n"
     ]
    }
   ],
   "source": [
    "#overloading with operators\n",
    "class val:\n",
    "    def __init__(self,x,y):\n",
    "        self.x=x\n",
    "        self.y=y\n",
    "    def __add__(self,ol):\n",
    "        return val(self.x+ol.x,self.y+ol.y)\n",
    "    def __str__(self):\n",
    "        return f\"{self.x},{self.y}\"\n",
    "\n",
    "\n",
    "a=val(1,2)\n",
    "b=val(3,5)\n",
    "print(a+b)"
   ]
  },
  {
   "cell_type": "code",
   "execution_count": 16,
   "id": "935fbd3b",
   "metadata": {},
   "outputs": [
    {
     "name": "stdout",
     "output_type": "stream",
     "text": [
      "result: 4+6i\n"
     ]
    }
   ],
   "source": [
    "\"\"\"\n",
    "code for add two complex numbers,where imaginary numbers and real numbers\n",
    "to be evaluated seperately with __add__() method and raise and error\n",
    "exception with this vale where unsupportive data type is encountered\n",
    "a=1+2i\n",
    "b=3+4i\n",
    "output:4+6i\n",
    "\"\"\"\n",
    "class complex:\n",
    "    def __init__(self,r=0,i=0):\n",
    "        self.r=r\n",
    "        self.i=i\n",
    "    def __add__(self,ol):\n",
    "        if isinstance(ol,complex):\n",
    "            return complex(self.r+ol.r,self.i+ol.i)\n",
    "        else:\n",
    "            raise TypeError(\"Unsupported operand-type\")\n",
    "    def __str__(self):\n",
    "        return f\"{self.r}+{self.i}i\"\n",
    "        \n",
    "a=complex(1,2)\n",
    "b=complex(3,4)\n",
    "print(\"result:\",a+b)"
   ]
  }
 ],
 "metadata": {
  "kernelspec": {
   "display_name": "base",
   "language": "python",
   "name": "python3"
  },
  "language_info": {
   "codemirror_mode": {
    "name": "ipython",
    "version": 3
   },
   "file_extension": ".py",
   "mimetype": "text/x-python",
   "name": "python",
   "nbconvert_exporter": "python",
   "pygments_lexer": "ipython3",
   "version": "3.12.7"
  }
 },
 "nbformat": 4,
 "nbformat_minor": 5
}
