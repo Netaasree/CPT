{
 "cells": [
  {
   "cell_type": "code",
   "execution_count": 1,
   "id": "79ee8934",
   "metadata": {},
   "outputs": [
    {
     "name": "stdout",
     "output_type": "stream",
     "text": [
      "Animal sounds\n",
      "The pet barks!!\n"
     ]
    }
   ],
   "source": [
    "#overriding redefine the child class which is already exits\n",
    "class pet:\n",
    "    def sound(self):\n",
    "        print(\"Animal sounds\")\n",
    "class dog(pet):\n",
    "    def sound(self):\n",
    "        print(\"The pet barks!!\")\n",
    "\n",
    "a=pet()\n",
    "a.sound()\n",
    "d=dog()\n",
    "d.sound()"
   ]
  },
  {
   "cell_type": "code",
   "execution_count": 2,
   "id": "1f195397",
   "metadata": {},
   "outputs": [
    {
     "name": "stdout",
     "output_type": "stream",
     "text": [
      "Animal sounds\n",
      "Animal sounds\n",
      "The pet barks!!\n"
     ]
    }
   ],
   "source": [
    "#calling the super class method from class\n",
    "class pet:\n",
    "    def sound(self):\n",
    "        print(\"Animal sounds\")\n",
    "class dog(pet):\n",
    "    def sound(self):\n",
    "        super().sound() #calling parent method\n",
    "        print(\"The pet barks!!\")\n",
    "\n",
    "a=pet()\n",
    "a.sound()\n",
    "d=dog()\n",
    "d.sound()\n"
   ]
  },
  {
   "cell_type": "code",
   "execution_count": 9,
   "id": "81d987b5",
   "metadata": {},
   "outputs": [
    {
     "name": "stdout",
     "output_type": "stream",
     "text": [
      "Student constructor\n",
      "person constructor\n"
     ]
    }
   ],
   "source": [
    "#constructor overriding:\n",
    "class student:\n",
    "    def __init__(self,name):\n",
    "        self.name=name\n",
    "        print(\"Student constructor\")\n",
    "class person(student):\n",
    "    def __init__(self,name,grade):\n",
    "        super().__init__(name)\n",
    "        self.grade=grade\n",
    "        print(\"person constructor\")\n",
    " \n",
    "s=person(\"vijay\",\"F\")"
   ]
  },
  {
   "cell_type": "code",
   "execution_count": 10,
   "id": "87b54fde",
   "metadata": {},
   "outputs": [
    {
     "name": "stdout",
     "output_type": "stream",
     "text": [
      "Barks....\n",
      "Meows....\n",
      "Animal sound\n"
     ]
    }
   ],
   "source": [
    "#method overriding by a polymorphism eval\n",
    "class pet:\n",
    "    def sound(self):\n",
    "        print(\"Animal sound\")\n",
    "class dog:\n",
    "    def sound(self):\n",
    "        print(\"Barks....\")\n",
    "class cat:\n",
    "    def sound(self):\n",
    "        print(\"Meows....\")\n",
    "\n",
    "\n",
    "pets=[dog(),cat(),pet()]\n",
    "for p in pets:\n",
    "    p.sound()\n"
   ]
  },
  {
   "cell_type": "code",
   "execution_count": 17,
   "id": "6cdd1e8e",
   "metadata": {},
   "outputs": [
    {
     "name": "stdout",
     "output_type": "stream",
     "text": [
      "4\n",
      "12.566370614359172\n"
     ]
    }
   ],
   "source": [
    "\"\"\"code for overriding different parameters in parent method by\n",
    "calculating the area of circle and square from a parent class shape\n",
    "pass side 4 for square and radius 5 for circle.\"\"\"\n",
    "\n",
    "#done by me\n",
    "from math import pi\n",
    "class shape:\n",
    "    def area(self):\n",
    "        pass\n",
    "\n",
    "class square(shape):\n",
    "    def __init__(self,side):\n",
    "        self.side=side\n",
    "    def area(self):\n",
    "        return self.side*self.side\n",
    "\n",
    "\n",
    "class circle(shape):\n",
    "    def __init__(self,radius):\n",
    "        self.radius=radius\n",
    "    def area(self):\n",
    "        return pi*self.radius**2\n",
    "\n",
    "\n",
    "\n",
    "r=int(input(\"Enter the radius: \"))\n",
    "s=int(input(\"Enter the side: \"))\n",
    "\n",
    "square=square(s)\n",
    "circle=circle(r)\n",
    "\n",
    "print(square.area())\n",
    "print(circle.area())\n",
    "\n"
   ]
  }
 ],
 "metadata": {
  "kernelspec": {
   "display_name": "base",
   "language": "python",
   "name": "python3"
  },
  "language_info": {
   "codemirror_mode": {
    "name": "ipython",
    "version": 3
   },
   "file_extension": ".py",
   "mimetype": "text/x-python",
   "name": "python",
   "nbconvert_exporter": "python",
   "pygments_lexer": "ipython3",
   "version": "3.12.7"
  }
 },
 "nbformat": 4,
 "nbformat_minor": 5
}
