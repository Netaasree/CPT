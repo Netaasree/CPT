{
 "cells": [
  {
   "cell_type": "code",
   "execution_count": 3,
   "metadata": {},
   "outputs": [
    {
     "name": "stdout",
     "output_type": "stream",
     "text": [
      "sweet vitamin-A yellow\n",
      "sweet vitamin-c orange\n"
     ]
    }
   ],
   "source": [
    "#abstract class\n",
    "class fruit:\n",
    "    def taste(self):\n",
    "        raise NotImplementedError()\n",
    "    def vitamin(self):\n",
    "        raise NotImplementedError()\n",
    "    def color(self):\n",
    "        raise NotImplementedError()\n",
    "\n",
    "\n",
    "class mango(fruit):\n",
    "    def taste(self):\n",
    "        return \"sweet\"\n",
    "    def vitamin(self):\n",
    "        return \"vitamin-A\"\n",
    "    def color(self):\n",
    "        return \"yellow\"\n",
    "    \n",
    "\n",
    "class orange(fruit):\n",
    "    def taste(self):\n",
    "        return \"sweet\"\n",
    "    def vitamin(self):\n",
    "        return \"vitamin-c\"\n",
    "    def color(self):\n",
    "        return \"orange\"\n",
    "\n",
    "\n",
    "alphanso=mango()\n",
    "print(alphanso.taste(),alphanso.vitamin(),alphanso.color())\n",
    "org=orange()\n",
    "print(org.taste(),org.vitamin(),org.color())"
   ]
  }
 ],
 "metadata": {
  "kernelspec": {
   "display_name": "base",
   "language": "python",
   "name": "python3"
  },
  "language_info": {
   "codemirror_mode": {
    "name": "ipython",
    "version": 3
   },
   "file_extension": ".py",
   "mimetype": "text/x-python",
   "name": "python",
   "nbconvert_exporter": "python",
   "pygments_lexer": "ipython3",
   "version": "3.12.7"
  }
 },
 "nbformat": 4,
 "nbformat_minor": 2
}
