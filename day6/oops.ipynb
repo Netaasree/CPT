{
 "cells": [
  {
   "cell_type": "code",
   "execution_count": 2,
   "metadata": {},
   "outputs": [
    {
     "name": "stdout",
     "output_type": "stream",
     "text": [
      "Hello\n"
     ]
    }
   ],
   "source": [
    "print(\"Hello\")"
   ]
  },
  {
   "cell_type": "code",
   "execution_count": 8,
   "metadata": {},
   "outputs": [
    {
     "name": "stdout",
     "output_type": "stream",
     "text": [
      "Base class-2\n",
      "Base class-1\n",
      "Derived class from both classes\n"
     ]
    }
   ],
   "source": [
    "#Multiple inhertance\n",
    "class base1(object): #1st base-class\n",
    "    def __init__(self):\n",
    "        super(base1,self).__init__()\n",
    "        print(\"Base class-1\")\n",
    "class base2(object): #2nd base-class\n",
    "    def __init__(self):\n",
    "        super(base2,self).__init__()\n",
    "        print(\"Base class-2\")\n",
    "class derived(base1,base2):\n",
    "    def __init__(self):\n",
    "        super(derived,self).__init__()\n",
    "        print(\"Derived class from both classes\")\n",
    "\n",
    "d=derived()\n",
    "\n"
   ]
  },
  {
   "cell_type": "code",
   "execution_count": 11,
   "metadata": {},
   "outputs": [
    {
     "name": "stdout",
     "output_type": "stream",
     "text": [
      "Addition is also initialized by reciving a,b from obj\n",
      "Multiplication is also initialized by receiving a,b from obj \n",
      "calc class initialized\n",
      "sum: 13\n",
      "product: 40\n"
     ]
    }
   ],
   "source": [
    "'''Initialise classes addition,multiplication in a calculator\n",
    "pass the values from main program to the superclass,where the subclasses\n",
    " addition and multiplication were triggered and return the outputs respectively.\n",
    "  1.Take derived class calc\n",
    " 2.from derived class call subclasses add and mul\n",
    " 3.return the values after math to the object\n",
    " 4.manual values of both numbers considered within the obj\n",
    " '''\n",
    "class addition:\n",
    "    def __init__(self,a,b):\n",
    "        self.a=a\n",
    "        self.b=b\n",
    "        print(\"Addition is also initialized by reciving a,b from obj\")\n",
    "    def add(self):\n",
    "        return self.a+self.b\n",
    "class multiplication:\n",
    "    def __init__(self,a,b):\n",
    "        self.a=a\n",
    "        self.b=b\n",
    "        print(\"Multiplication is also initialized by receiving a,b from obj \")\n",
    "    def mul(self):\n",
    "        return self.a*self.b\n",
    "class calc(addition,multiplication):\n",
    "    def __init__(self,a,b):\n",
    "        addition.__init__(self,a,b)\n",
    "        multiplication.__init__(self,a,b)\n",
    "        print(\"calc class initialized\")\n",
    "\n",
    "x=int(input(\"Enter the value of a:\"))\n",
    "y=int(input(\"Enter the value of b:\"))\n",
    "c=calc(x,y)\n",
    "print(\"sum:\",c.add())\n",
    "print(\"product:\",c.mul())\n"
   ]
  },
  {
   "cell_type": "code",
   "execution_count": null,
   "metadata": {},
   "outputs": [
    {
     "name": "stdout",
     "output_type": "stream",
     "text": [
      "Square and cube addition result is:  36\n"
     ]
    }
   ],
   "source": [
    "#written by me\n",
    "class squares:\n",
    "    def __init__(self,a):\n",
    "        self.a=a\n",
    "        return self.a**2\n",
    "class cubes:\n",
    "    def __init__(self,a):\n",
    "        self.a=a\n",
    "        return self.a**3\n",
    "class calc(squares,cubes):\n",
    "    def __init__(self,a):\n",
    "        x=squares.__init__(self,a)\n",
    "        y=cubes.__init__(self,a)\n",
    "        print(\"Square and cube addition result is: \",x+y)\n",
    "\n",
    "obj=calc(3)"
   ]
  },
  {
   "cell_type": "code",
   "execution_count": 18,
   "metadata": {},
   "outputs": [
    {
     "name": "stdout",
     "output_type": "stream",
     "text": [
      "name.....\n",
      "Phd\n",
      "experience....15 years\n"
     ]
    }
   ],
   "source": [
    "#multi-level inheritance\n",
    "class person:\n",
    "    def name(self):\n",
    "        print(\"name.....\")\n",
    "class teacher(person):\n",
    "    def qualification(self):\n",
    "        print(\"Phd\")\n",
    "class hod(teacher):\n",
    "    def exp(self):\n",
    "        print(\"experience....15 years\")\n",
    "\n",
    "head=hod()\n",
    "head.name()\n",
    "head.qualification()\n",
    "head.exp()\n",
    "#person->teacher->hod"
   ]
  },
  {
   "cell_type": "code",
   "execution_count": 19,
   "metadata": {},
   "outputs": [
    {
     "name": "stdout",
     "output_type": "stream",
     "text": [
      "name.....\n",
      "Phd\n",
      "experience....15 years\n"
     ]
    }
   ],
   "source": [
    "#multi-level inheritance\n",
    "class person:\n",
    "    def name(self):\n",
    "        print(\"name.....\")\n",
    "class teacher(person):\n",
    "    def qualification(self):\n",
    "        print(\"Phd\")\n",
    "class hod(teacher):\n",
    "    def exp(self):\n",
    "        print(\"experience....15 years\")\n",
    "\n",
    "head=hod()\n",
    "head.name()\n",
    "head.qualification()\n",
    "head.exp()\n",
    "#person->teacher->hod"
   ]
  },
  {
   "cell_type": "code",
   "execution_count": 20,
   "metadata": {},
   "outputs": [
    {
     "name": "stdout",
     "output_type": "stream",
     "text": [
      "Number initialized\n",
      "Square: 64\n",
      "cube: 64\n"
     ]
    }
   ],
   "source": [
    "#multi-level inheritance cubes and square of an obj\n",
    "class num:\n",
    "    def __init__(self,n):\n",
    "        self.n=n\n",
    "        print(\"Number initialized\")\n",
    "class sq(num):\n",
    "    def square(self):\n",
    "        return self.n*self.n**2\n",
    "class cu(sq):\n",
    "    def cube(self):\n",
    "        return self.n**3\n",
    "calc=cu(4)\n",
    "print(\"Square:\",calc.square())\n",
    "print(\"cube:\",calc.cube())\n",
    "\n"
   ]
  }
 ],
 "metadata": {
  "kernelspec": {
   "display_name": "base",
   "language": "python",
   "name": "python3"
  },
  "language_info": {
   "codemirror_mode": {
    "name": "ipython",
    "version": 3
   },
   "file_extension": ".py",
   "mimetype": "text/x-python",
   "name": "python",
   "nbconvert_exporter": "python",
   "pygments_lexer": "ipython3",
   "version": "3.12.7"
  }
 },
 "nbformat": 4,
 "nbformat_minor": 2
}
