{
 "cells": [
  {
   "cell_type": "code",
   "execution_count": 2,
   "metadata": {},
   "outputs": [
    {
     "name": "stdout",
     "output_type": "stream",
     "text": [
      "double: 8\n",
      "triple: 12\n"
     ]
    }
   ],
   "source": [
    "#hierarichy inhertance\n",
    "class number:\n",
    "    def __init__(self,num):\n",
    "        self.num=num\n",
    "    def get_number(self):\n",
    "        return self.num\n",
    "class double(number):\n",
    "    def result(self):\n",
    "        return self.get_number()*2\n",
    "class triple(number):\n",
    "    def result(self):\n",
    "        return self.get_number()*3\n",
    "\n",
    "d=double(4)\n",
    "print(\"double:\",d.result())\n",
    "t=triple(4)\n",
    "print(\"triple:\",t.result())\n",
    "    "
   ]
  }
 ],
 "metadata": {
  "kernelspec": {
   "display_name": "base",
   "language": "python",
   "name": "python3"
  },
  "language_info": {
   "codemirror_mode": {
    "name": "ipython",
    "version": 3
   },
   "file_extension": ".py",
   "mimetype": "text/x-python",
   "name": "python",
   "nbconvert_exporter": "python",
   "pygments_lexer": "ipython3",
   "version": "3.12.7"
  }
 },
 "nbformat": 4,
 "nbformat_minor": 2
}
